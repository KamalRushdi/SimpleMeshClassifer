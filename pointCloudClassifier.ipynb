{
 "cells": [
  {
   "metadata": {},
   "cell_type": "markdown",
   "source": "# 3D Point Cloud Classification with Simple PointNet",
   "id": "a7ba13a279cf08c5"
  },
  {
   "metadata": {},
   "cell_type": "markdown",
   "source": "Normalization",
   "id": "1d1a6ddbfee480cf"
  },
  {
   "metadata": {
    "ExecuteTime": {
     "end_time": "2025-03-22T09:09:20.358695Z",
     "start_time": "2025-03-22T09:09:20.356Z"
    }
   },
   "cell_type": "code",
   "source": [
    "def normalize_point_cloud(points):\n",
    "    \"\"\"\n",
    "    Normalize a point cloud to be centered at the origin and fit within a unit sphere.\n",
    "\n",
    "    :param points: (N, 3) numpy array representing the point cloud.\n",
    "    :return: Normalized point cloud.\n",
    "    \"\"\"\n",
    "    # 1. Centering: Shift the centroid to the origin\n",
    "    centroid = np.mean(points, axis=0)\n",
    "    points -= centroid\n",
    "\n",
    "    # 2. Scaling: Normalize by the max distance to the origin\n",
    "    max_distance = np.max(np.linalg.norm(points, axis=1))\n",
    "    points /= max_distance\n",
    "\n",
    "    return points, centroid, max_distance"
   ],
   "id": "82f35d9d56cc4585",
   "outputs": [],
   "execution_count": 1
  },
  {
   "metadata": {},
   "cell_type": "markdown",
   "source": "Denormalization",
   "id": "916a3a605f77ca38"
  },
  {
   "metadata": {
    "ExecuteTime": {
     "end_time": "2025-03-22T09:09:20.595896Z",
     "start_time": "2025-03-22T09:09:20.592030Z"
    }
   },
   "cell_type": "code",
   "source": [
    "def denormalize_point_cloud(points, centroid, max_distance):\n",
    "    \"\"\"\n",
    "    Denormalize a point cloud to its original coordinates.\n",
    "\n",
    "    :param points: Normalized point cloud.\n",
    "    :param centroid: Centroid of the original point cloud.\n",
    "    :param max_distance: Maximum distance from the origin.\n",
    "    :return: Denormalized point cloud.\n",
    "    \"\"\"\n",
    "    # 1. Reverse scaling\n",
    "    points *= max_distance\n",
    "\n",
    "    # 2. Reverse centering\n",
    "    points += centroid\n",
    "\n",
    "    return points"
   ],
   "id": "9aa7a7cf8302bccf",
   "outputs": [],
   "execution_count": 2
  },
  {
   "metadata": {},
   "cell_type": "markdown",
   "source": "Loader Function",
   "id": "8c7578c42935cc5b"
  },
  {
   "metadata": {
    "ExecuteTime": {
     "end_time": "2025-03-22T09:09:41.246022Z",
     "start_time": "2025-03-22T09:09:40.087292Z"
    }
   },
   "cell_type": "code",
   "source": [
    "# loader function\n",
    "import open3d as o3d\n",
    "import numpy as np\n",
    "from plyfile import PlyData\n",
    "from sklearn.neighbors import NearestNeighbors\n",
    "\n",
    "def load_and_prepare_data(ply_path, num_points=10000):\n",
    "    # Load the PLY file\n",
    "    ply_data = PlyData.read(ply_path)\n",
    "\n",
    "    # Extract vertices and labels\n",
    "    vertices = np.vstack([\n",
    "        ply_data['vertex']['x'],\n",
    "        ply_data['vertex']['y'],\n",
    "        ply_data['vertex']['z']\n",
    "    ]).T  # Shape: (N, 3)\n",
    "\n",
    "    vertex_labels = np.array(ply_data['vertex']['label'])  # Shape: (N,)\n",
    "\n",
    "    # Load the mesh as an Open3D object\n",
    "    mesh = o3d.io.read_triangle_mesh(ply_path)\n",
    "\n",
    "    # Sample points from the mesh\n",
    "    point_cloud = mesh.sample_points_uniformly(number_of_points=num_points)\n",
    "\n",
    "    # Extract point cloud coordinates\n",
    "    points = np.asarray(point_cloud.points)\n",
    "\n",
    "    # Find nearest neighbors between point cloud and mesh vertices\n",
    "    nbrs = NearestNeighbors(n_neighbors=1, algorithm='ball_tree').fit(vertices)\n",
    "    distances, indices = nbrs.kneighbors(points)\n",
    "\n",
    "    # Assign labels to the point cloud\n",
    "    point_labels = vertex_labels[indices.flatten()]\n",
    "\n",
    "    return points, point_labels\n"
   ],
   "id": "54b746b7e34ee6a9",
   "outputs": [
    {
     "name": "stdout",
     "output_type": "stream",
     "text": [
      "Jupyter environment detected. Enabling Open3D WebVisualizer.\n",
      "[Open3D INFO] WebRTC GUI backend enabled.\n",
      "[Open3D INFO] WebRTCWindowSystem: HTTP handshake server disabled.\n"
     ]
    }
   ],
   "execution_count": 5
  },
  {
   "metadata": {},
   "cell_type": "markdown",
   "source": "Network Architecture",
   "id": "71894d4752d378c"
  },
  {
   "metadata": {
    "ExecuteTime": {
     "end_time": "2025-03-22T09:09:26.860719Z",
     "start_time": "2025-03-22T09:09:24.998901Z"
    }
   },
   "cell_type": "code",
   "source": [
    "# network architecture\n",
    "import torch\n",
    "import torch.nn as nn\n",
    "import torch.nn.functional as F\n",
    "class SimplePointNet(nn.Module):\n",
    "    def __init__(self, num_classes):\n",
    "        super(SimplePointNet, self).__init__()\n",
    "        self.num_classes = num_classes\n",
    "\n",
    "        # Shared MLP for feature extraction\n",
    "        self.mlp1 = nn.Sequential(\n",
    "            nn.Conv1d(3, 64, 1),\n",
    "            nn.BatchNorm1d(64),\n",
    "            nn.ReLU(),\n",
    "            nn.Conv1d(64, 128, 1),\n",
    "            nn.BatchNorm1d(128),\n",
    "            nn.ReLU(),\n",
    "            nn.Conv1d(128, 1024, 1),\n",
    "            nn.BatchNorm1d(1024),\n",
    "            nn.ReLU()\n",
    "        )\n",
    "\n",
    "        # Fully connected layers for per-point classification\n",
    "        self.mlp2 = nn.Sequential(\n",
    "            nn.Conv1d(1024, 512, 1),\n",
    "            nn.BatchNorm1d(512),\n",
    "            nn.ReLU(),\n",
    "            nn.Conv1d(512, 256, 1),\n",
    "            nn.BatchNorm1d(256),\n",
    "            nn.ReLU(),\n",
    "            nn.Conv1d(256, num_classes, 1)  # Output per point\n",
    "        )\n",
    "\n",
    "    def forward(self, x):\n",
    "        # Input shape: (batch_size, 3, num_points)\n",
    "        x = self.mlp1(x)  # Shape: (batch_size, 1024, num_points)\n",
    "        x = self.mlp2(x)  # Shape: (batch_size, num_classes, num_points)\n",
    "\n",
    "        return x  # Shape: (batch_size, num_classes, num_points)\n"
   ],
   "id": "8585f20e7e88d26b",
   "outputs": [],
   "execution_count": 3
  },
  {
   "metadata": {},
   "cell_type": "markdown",
   "source": "Load data",
   "id": "4a10bc37a006b252"
  },
  {
   "metadata": {
    "ExecuteTime": {
     "end_time": "2025-03-22T09:09:45.361799Z",
     "start_time": "2025-03-22T09:09:45.122274Z"
    }
   },
   "cell_type": "code",
   "source": [
    "# load point cloud data\n",
    "from torch.utils.data import Dataset, DataLoader\n",
    "\n",
    "class PointCloudDataset(Dataset):\n",
    "    def __init__(self, file_paths, num_points=10000):\n",
    "        self.file_paths = file_paths\n",
    "        self.num_points = num_points\n",
    "\n",
    "    def __len__(self):\n",
    "        return len(self.file_paths)\n",
    "\n",
    "    def __getitem__(self, idx):\n",
    "        ply_path = self.file_paths[idx]\n",
    "        points, labels = load_and_prepare_data(ply_path, self.num_points)\n",
    "        points, centroid, max_distance = normalize_point_cloud(points)\n",
    "        return torch.tensor(points, dtype=torch.float32), torch.tensor(labels, dtype=torch.long), centroid, max_distance\n",
    "\n",
    "# Example usage\n",
    "import glob\n",
    "file_paths = glob.glob(\"data/train/*.ply\")\n",
    "dataset = PointCloudDataset(file_paths)\n",
    "dataloader = DataLoader(dataset, batch_size=32, shuffle=True)\n",
    "print(len(dataset))\n",
    "print(dataset.__getitem__(42))"
   ],
   "id": "45add9676a390dfa",
   "outputs": [
    {
     "name": "stdout",
     "output_type": "stream",
     "text": [
      "47\n",
      "(tensor([[-0.1191,  0.3069, -0.7333],\n",
      "        [ 0.3993, -0.0521,  0.4156],\n",
      "        [ 0.2380, -0.2383,  0.2377],\n",
      "        ...,\n",
      "        [ 0.2790, -0.0624, -0.2861],\n",
      "        [-0.1218,  0.1105, -0.1459],\n",
      "        [-0.5047, -0.1664,  0.4132]]), tensor([7, 3, 3,  ..., 3, 3, 5]), array([ 0.34736434,  0.16805013, -0.28140679]), np.float64(0.41523494396731603))\n"
     ]
    }
   ],
   "execution_count": 6
  },
  {
   "metadata": {
    "ExecuteTime": {
     "end_time": "2025-03-22T09:09:48.552257Z",
     "start_time": "2025-03-22T09:09:48.334405Z"
    }
   },
   "cell_type": "code",
   "source": [
    "print(type(dataset))\n",
    "dataset.__getitem__(0)"
   ],
   "id": "b40216c49e4cb3b6",
   "outputs": [
    {
     "name": "stdout",
     "output_type": "stream",
     "text": [
      "<class '__main__.PointCloudDataset'>\n"
     ]
    },
    {
     "data": {
      "text/plain": [
       "(tensor([[-0.1105, -0.0415, -0.9108],\n",
       "         [-0.0401,  0.0695,  0.6964],\n",
       "         [ 0.2136,  0.1632,  0.2098],\n",
       "         ...,\n",
       "         [-0.6437,  0.1486,  0.2143],\n",
       "         [-0.6170,  0.1567,  0.2095],\n",
       "         [ 0.1847,  0.1224, -0.6052]]),\n",
       " tensor([7, 1, 3,  ..., 5, 5, 7]),\n",
       " array([ 0.45173206,  0.23489016, -0.45117191]),\n",
       " np.float64(0.5449764844843685))"
      ]
     },
     "execution_count": 7,
     "metadata": {},
     "output_type": "execute_result"
    }
   ],
   "execution_count": 7
  },
  {
   "metadata": {
    "ExecuteTime": {
     "end_time": "2025-03-15T14:45:43.641713Z",
     "start_time": "2025-03-15T14:45:43.638048Z"
    }
   },
   "cell_type": "code",
   "source": "",
   "id": "b200ebec78fe8835",
   "outputs": [],
   "execution_count": null
  },
  {
   "metadata": {},
   "cell_type": "markdown",
   "source": "Training",
   "id": "e8483452dacd5919"
  },
  {
   "metadata": {
    "ExecuteTime": {
     "end_time": "2025-03-15T15:19:28.171284Z",
     "start_time": "2025-03-15T14:49:52.163361Z"
    }
   },
   "cell_type": "code",
   "source": [
    "# Initialize model, loss, and optimizer, and train the model\n",
    "\n",
    "model = SimplePointNet(num_classes=8)  # Adjust num_classes as needed\n",
    "criterion = nn.CrossEntropyLoss()  # Applies per-point classification\n",
    "optimizer = torch.optim.Adam(model.parameters(), lr=0.001)\n",
    "\n",
    "# Training loop increase to 200\n",
    "num_epochs = 75\n",
    "for epoch in range(num_epochs):\n",
    "    for batch_idx, (points, labels, centroid, max_distance) in enumerate(dataloader):\n",
    "        # Move data to GPU if available\n",
    "        points = points.transpose(1, 2)  # Shape: (batch_size, 3, num_points)\n",
    "        labels = labels.long()  # Ensure it's long type for classification\n",
    "\n",
    "        # Forward pass\n",
    "        outputs = model(points)  # Shape: (batch_size, num_classes, num_points)\n",
    "        outputs = outputs.permute(0, 2, 1)  # Change to (batch_size, num_points, num_classes)\n",
    "\n",
    "        # Compute loss\n",
    "        loss = criterion(outputs.reshape(-1, model.num_classes), labels.view(-1))\n",
    "        # Backprop\n",
    "        optimizer.zero_grad()\n",
    "        loss.backward()\n",
    "        optimizer.step()\n",
    "\n",
    "        # Print loss\n",
    "        if batch_idx % 10 == 0:\n",
    "            print(f\"Epoch [{epoch+1}/{num_epochs}], Batch [{batch_idx}/{len(dataloader)}], Loss: {loss.item():.4f}\")\n"
   ],
   "id": "2ee0c5665ad3c58b",
   "outputs": [
    {
     "name": "stdout",
     "output_type": "stream",
     "text": [
      "Epoch [1/75], Batch [0/2], Loss: 2.2146\n",
      "Epoch [2/75], Batch [0/2], Loss: 0.7213\n",
      "Epoch [3/75], Batch [0/2], Loss: 0.5911\n",
      "Epoch [4/75], Batch [0/2], Loss: 0.5023\n",
      "Epoch [5/75], Batch [0/2], Loss: 0.4507\n",
      "Epoch [6/75], Batch [0/2], Loss: 0.4277\n",
      "Epoch [7/75], Batch [0/2], Loss: 0.4132\n",
      "Epoch [8/75], Batch [0/2], Loss: 0.3611\n",
      "Epoch [9/75], Batch [0/2], Loss: 0.4143\n",
      "Epoch [10/75], Batch [0/2], Loss: 0.3977\n",
      "Epoch [11/75], Batch [0/2], Loss: 0.3767\n",
      "Epoch [12/75], Batch [0/2], Loss: 0.3493\n",
      "Epoch [13/75], Batch [0/2], Loss: 0.3791\n",
      "Epoch [14/75], Batch [0/2], Loss: 0.3300\n",
      "Epoch [15/75], Batch [0/2], Loss: 0.3841\n",
      "Epoch [16/75], Batch [0/2], Loss: 0.3799\n",
      "Epoch [17/75], Batch [0/2], Loss: 0.3411\n",
      "Epoch [18/75], Batch [0/2], Loss: 0.3652\n",
      "Epoch [19/75], Batch [0/2], Loss: 0.3163\n",
      "Epoch [20/75], Batch [0/2], Loss: 0.2987\n",
      "Epoch [21/75], Batch [0/2], Loss: 0.3583\n",
      "Epoch [22/75], Batch [0/2], Loss: 0.3708\n",
      "Epoch [23/75], Batch [0/2], Loss: 0.3530\n",
      "Epoch [24/75], Batch [0/2], Loss: 0.3608\n",
      "Epoch [25/75], Batch [0/2], Loss: 0.3209\n",
      "Epoch [26/75], Batch [0/2], Loss: 0.3315\n",
      "Epoch [27/75], Batch [0/2], Loss: 0.3248\n",
      "Epoch [28/75], Batch [0/2], Loss: 0.2856\n",
      "Epoch [29/75], Batch [0/2], Loss: 0.3372\n",
      "Epoch [30/75], Batch [0/2], Loss: 0.2785\n",
      "Epoch [31/75], Batch [0/2], Loss: 0.3472\n",
      "Epoch [32/75], Batch [0/2], Loss: 0.3562\n",
      "Epoch [33/75], Batch [0/2], Loss: 0.3271\n",
      "Epoch [34/75], Batch [0/2], Loss: 0.3233\n",
      "Epoch [35/75], Batch [0/2], Loss: 0.3471\n",
      "Epoch [36/75], Batch [0/2], Loss: 0.2858\n",
      "Epoch [37/75], Batch [0/2], Loss: 0.3417\n",
      "Epoch [38/75], Batch [0/2], Loss: 0.2905\n",
      "Epoch [39/75], Batch [0/2], Loss: 0.3285\n",
      "Epoch [40/75], Batch [0/2], Loss: 0.3378\n",
      "Epoch [41/75], Batch [0/2], Loss: 0.3453\n",
      "Epoch [42/75], Batch [0/2], Loss: 0.2710\n",
      "Epoch [43/75], Batch [0/2], Loss: 0.3546\n",
      "Epoch [44/75], Batch [0/2], Loss: 0.2686\n",
      "Epoch [45/75], Batch [0/2], Loss: 0.3526\n",
      "Epoch [46/75], Batch [0/2], Loss: 0.3314\n",
      "Epoch [47/75], Batch [0/2], Loss: 0.2732\n",
      "Epoch [48/75], Batch [0/2], Loss: 0.3080\n",
      "Epoch [49/75], Batch [0/2], Loss: 0.3285\n",
      "Epoch [50/75], Batch [0/2], Loss: 0.2837\n",
      "Epoch [51/75], Batch [0/2], Loss: 0.3432\n",
      "Epoch [52/75], Batch [0/2], Loss: 0.3000\n",
      "Epoch [53/75], Batch [0/2], Loss: 0.2471\n",
      "Epoch [54/75], Batch [0/2], Loss: 0.2976\n",
      "Epoch [55/75], Batch [0/2], Loss: 0.3456\n",
      "Epoch [56/75], Batch [0/2], Loss: 0.2875\n",
      "Epoch [57/75], Batch [0/2], Loss: 0.2889\n",
      "Epoch [58/75], Batch [0/2], Loss: 0.2980\n",
      "Epoch [59/75], Batch [0/2], Loss: 0.2848\n",
      "Epoch [60/75], Batch [0/2], Loss: 0.2895\n",
      "Epoch [61/75], Batch [0/2], Loss: 0.3064\n",
      "Epoch [62/75], Batch [0/2], Loss: 0.3221\n",
      "Epoch [63/75], Batch [0/2], Loss: 0.3017\n",
      "Epoch [64/75], Batch [0/2], Loss: 0.3349\n",
      "Epoch [65/75], Batch [0/2], Loss: 0.3423\n",
      "Epoch [66/75], Batch [0/2], Loss: 0.3329\n",
      "Epoch [67/75], Batch [0/2], Loss: 0.3238\n",
      "Epoch [68/75], Batch [0/2], Loss: 0.3079\n",
      "Epoch [69/75], Batch [0/2], Loss: 0.3159\n",
      "Epoch [70/75], Batch [0/2], Loss: 0.3268\n",
      "Epoch [71/75], Batch [0/2], Loss: 0.3072\n",
      "Epoch [72/75], Batch [0/2], Loss: 0.3220\n",
      "Epoch [73/75], Batch [0/2], Loss: 0.3341\n",
      "Epoch [74/75], Batch [0/2], Loss: 0.2735\n",
      "Epoch [75/75], Batch [0/2], Loss: 0.3170\n"
     ]
    }
   ],
   "execution_count": 29
  },
  {
   "metadata": {
    "ExecuteTime": {
     "end_time": "2025-03-15T15:19:41.845503Z",
     "start_time": "2025-03-15T15:19:41.832971Z"
    }
   },
   "cell_type": "code",
   "source": [
    "# Save model\n",
    "# torch.save(model.state_dict(), \"model_normalize.pth\")"
   ],
   "id": "43da6851d5dc90fb",
   "outputs": [],
   "execution_count": 30
  },
  {
   "metadata": {
    "ExecuteTime": {
     "end_time": "2025-03-15T15:19:43.093628Z",
     "start_time": "2025-03-15T15:19:43.063200Z"
    }
   },
   "cell_type": "code",
   "source": [
    "# Load model\n",
    "model = SimplePointNet(num_classes=8)\n",
    "model.load_state_dict(torch.load(\"model_normalize.pth\"))"
   ],
   "id": "55b3c083564065b5",
   "outputs": [
    {
     "data": {
      "text/plain": [
       "<All keys matched successfully>"
      ]
     },
     "execution_count": 31,
     "metadata": {},
     "output_type": "execute_result"
    }
   ],
   "execution_count": 31
  },
  {
   "metadata": {},
   "cell_type": "markdown",
   "source": "## Evaluation and testing",
   "id": "3309a2cd05c4a6a7"
  },
  {
   "metadata": {},
   "cell_type": "markdown",
   "source": "### Point Cloud Metrics",
   "id": "83e61646f04ee972"
  },
  {
   "metadata": {
    "ExecuteTime": {
     "end_time": "2025-03-15T15:22:58.139368Z",
     "start_time": "2025-03-15T15:22:54.896297Z"
    }
   },
   "cell_type": "code",
   "source": [
    "# point cloud accuracy\n",
    "import os\n",
    "from sklearn.metrics import f1_score\n",
    "import sys\n",
    "\n",
    "# Set model to evaluation mode\n",
    "model.eval()\n",
    "\n",
    "# Directory containing validation files\n",
    "val_dir = \"data/val\"\n",
    "val_files = glob.glob(os.path.join(val_dir, \"*.ply\"))\n",
    "\n",
    "# Initialize lists to store metrics\n",
    "accuracies = []\n",
    "f1_scores = []\n",
    "samples_points = {}\n",
    "samples_predicted_labels = {}\n",
    "# for mesh metrics\n",
    "centroids = {}\n",
    "max_distances = {}\n",
    "\n",
    "# flush the output\n",
    "sys.stdout.flush()\n",
    "# Iterate over all validation files\n",
    "for file_path in val_files:\n",
    "    # Load data\n",
    "    points, true_labels = load_and_prepare_data(file_path, num_points=10000)\n",
    "    samples_points.update({os.path.basename(file_path): points})\n",
    "    points, centroid, max_distance = normalize_point_cloud(points)\n",
    "    centroids.update({os.path.basename(file_path): centroid})\n",
    "    max_distances.update({os.path.basename(file_path): max_distance})\n",
    "    # Prepare input tensor\n",
    "\n",
    "    points = torch.tensor(points, dtype=torch.float32).unsqueeze(0)  # Add batch dimension\n",
    "    points = points.transpose(1, 2)  # Shape: (1, 3, num_points)\n",
    "\n",
    "    # Predict labels\n",
    "    with torch.no_grad():\n",
    "        outputs = model(points)\n",
    "        predicted_labels = torch.argmax(outputs, dim=1)  # Shape: (1, num_points)\n",
    "        samples_predicted_labels.update({os.path.basename(file_path): predicted_labels})\n",
    "\n",
    "    # Convert ground truth labels to tensor\n",
    "    true_labels = torch.tensor(true_labels, dtype=torch.long)  # Shape: (num_points,)\n",
    "\n",
    "    # Calculate accuracy\n",
    "    correct = (predicted_labels == true_labels).sum().item()\n",
    "    total = true_labels.size(0)\n",
    "    accuracy = correct / total\n",
    "    accuracies.append(accuracy)\n",
    "\n",
    "    # Calculate F1 score\n",
    "    f1 = f1_score(true_labels.numpy(), predicted_labels.squeeze(0).numpy(), average=\"weighted\")\n",
    "    f1_scores.append(f1)\n",
    "\n",
    "    print(f\"File: {os.path.basename(file_path)} | Accuracy: {accuracy * 100:.2f}% | F1 Score: {f1:.4f}\")\n",
    "\n",
    "# Calculate average accuracy and F1 score\n",
    "avg_accuracy = np.mean(accuracies)\n",
    "avg_f1_score = np.mean(f1_scores)\n",
    "\n",
    "print(f\"\\nAverage Accuracy: {avg_accuracy * 100:.2f}%\")\n",
    "print(f\"Average F1 Score: {avg_f1_score:.4f}\")"
   ],
   "id": "823539d108069c90",
   "outputs": [
    {
     "name": "stdout",
     "output_type": "stream",
     "text": [
      "File: raw_60.ply | Accuracy: 94.11% | F1 Score: 0.9405\n",
      "File: raw_59.ply | Accuracy: 82.92% | F1 Score: 0.8275\n",
      "File: raw_55.ply | Accuracy: 86.66% | F1 Score: 0.8662\n",
      "File: raw_57.ply | Accuracy: 84.04% | F1 Score: 0.8363\n",
      "File: raw_50.ply | Accuracy: 84.73% | F1 Score: 0.8464\n",
      "File: raw_51.ply | Accuracy: 82.05% | F1 Score: 0.8184\n",
      "File: raw_54.ply | Accuracy: 67.42% | F1 Score: 0.6948\n",
      "File: raw_53.ply | Accuracy: 78.68% | F1 Score: 0.7813\n",
      "File: raw_56.ply | Accuracy: 78.56% | F1 Score: 0.7871\n",
      "File: raw_58.ply | Accuracy: 90.00% | F1 Score: 0.8987\n",
      "File: raw_52.ply | Accuracy: 77.85% | F1 Score: 0.7716\n",
      "\n",
      "Average Accuracy: 82.46%\n",
      "Average F1 Score: 0.8244\n"
     ]
    }
   ],
   "execution_count": 35
  },
  {
   "metadata": {},
   "cell_type": "markdown",
   "source": "### Mesh Metrics",
   "id": "cee7092e907da046"
  },
  {
   "metadata": {
    "ExecuteTime": {
     "end_time": "2025-03-15T15:24:27.873883Z",
     "start_time": "2025-03-15T15:24:25.149973Z"
    }
   },
   "cell_type": "code",
   "source": [
    "import os\n",
    "import numpy as np\n",
    "from sklearn.metrics import f1_score, accuracy_score\n",
    "from sklearn.neighbors import NearestNeighbors\n",
    "from plyfile import PlyData\n",
    "import glob\n",
    "\n",
    "# Directories\n",
    "val_dir = \"data/val\"\n",
    "results_dir = \"results/predicted labels\"\n",
    "os.makedirs(results_dir, exist_ok=True)  # Create results directory if it doesn't exist\n",
    "\n",
    "# Get all PLY files in the validation directory\n",
    "val_files = glob.glob(os.path.join(val_dir, \"*.ply\"))\n",
    "\n",
    "# Initialize lists to store metrics\n",
    "all_accuracies = []\n",
    "all_f1_scores = []\n",
    "\n",
    "all_true_labels = []\n",
    "all_predicted_labels = []\n",
    "\n",
    "# Iterate over all validation files\n",
    "for file_path in val_files:\n",
    "    # Load the PLY file\n",
    "    ply_data = PlyData.read(file_path)\n",
    "\n",
    "    # Extract vertices and true labels\n",
    "    vertices = np.vstack([\n",
    "        ply_data['vertex']['x'],\n",
    "        ply_data['vertex']['y'],\n",
    "        ply_data['vertex']['z']\n",
    "    ]).T  # Shape: (N, 3)\n",
    "\n",
    "    vertex_labels = np.array(ply_data['vertex']['label'])  # Shape: (N,)\n",
    "    all_true_labels.append(vertex_labels) # for classification report\n",
    "\n",
    "    points = samples_points[os.path.basename(file_path)]\n",
    "    points = denormalize_point_cloud(points, centroids[os.path.basename(file_path)], max_distances[os.path.basename(file_path)])\n",
    "    # Find nearest neighbors between mesh vertices and point cloud\n",
    "    nbrs = NearestNeighbors(n_neighbors=1, algorithm='ball_tree').fit(points)\n",
    "    distances, indices = nbrs.kneighbors(vertices)\n",
    "\n",
    "    # Assign labels to the mesh vertices\n",
    "    predicted_vertex_labels = samples_predicted_labels[os.path.basename(file_path)].flatten()[indices.flatten()]\n",
    "    all_predicted_labels.append(predicted_vertex_labels) # for classification report\n",
    "\n",
    "    # Save predicted labels to a file\n",
    "    sample_name = os.path.splitext(os.path.basename(file_path))[0]\n",
    "    output_file = os.path.join(results_dir, f\"{sample_name}_labels.txt\")\n",
    "    np.savetxt(output_file, predicted_vertex_labels, fmt='%d')\n",
    "\n",
    "    # Calculate accuracy and F1 score for this sample\n",
    "    accuracy = accuracy_score(vertex_labels, predicted_vertex_labels)\n",
    "    f1 = f1_score(vertex_labels, predicted_vertex_labels, average=\"weighted\")\n",
    "\n",
    "    # Append to lists\n",
    "    all_accuracies.append(accuracy)\n",
    "    all_f1_scores.append(f1)\n",
    "    print(f\"Sample: {sample_name} | Accuracy: {accuracy * 100:.2f}% | F1 Score: {f1:.4f}\")\n",
    "\n",
    "# Calculate average metrics\n",
    "avg_accuracy = np.mean(all_accuracies)\n",
    "avg_f1_score = np.mean(all_f1_scores)\n",
    "\n",
    "# Print overall metrics\n",
    "print(\"\\nOverall Metrics:\")\n",
    "print(f\"Average Accuracy: {avg_accuracy * 100:.2f}%\")\n",
    "print(f\"Average F1 Score: {avg_f1_score:.4f}\")"
   ],
   "id": "191e0c80751a7c4",
   "outputs": [
    {
     "name": "stdout",
     "output_type": "stream",
     "text": [
      "Sample: raw_60 | Accuracy: 91.04% | F1 Score: 0.9102\n",
      "Sample: raw_59 | Accuracy: 78.69% | F1 Score: 0.7804\n",
      "Sample: raw_55 | Accuracy: 84.60% | F1 Score: 0.8441\n",
      "Sample: raw_57 | Accuracy: 79.28% | F1 Score: 0.7917\n",
      "Sample: raw_50 | Accuracy: 84.19% | F1 Score: 0.8387\n",
      "Sample: raw_51 | Accuracy: 75.20% | F1 Score: 0.7570\n",
      "Sample: raw_54 | Accuracy: 61.81% | F1 Score: 0.6333\n",
      "Sample: raw_53 | Accuracy: 78.46% | F1 Score: 0.7766\n",
      "Sample: raw_56 | Accuracy: 79.94% | F1 Score: 0.7966\n",
      "Sample: raw_58 | Accuracy: 88.88% | F1 Score: 0.8872\n",
      "Sample: raw_52 | Accuracy: 72.45% | F1 Score: 0.7163\n",
      "\n",
      "Overall Metrics:\n",
      "Average Accuracy: 79.50%\n",
      "Average F1 Score: 0.7938\n"
     ]
    }
   ],
   "execution_count": 36
  },
  {
   "metadata": {
    "ExecuteTime": {
     "end_time": "2025-03-15T15:24:34.301872Z",
     "start_time": "2025-03-15T15:24:34.232327Z"
    }
   },
   "cell_type": "code",
   "source": [
    "from sklearn.metrics import classification_report\n",
    "class_names = [\"head\", \"neck\", \"torso\", \"left_arm\", \"right_arm\", \"hip\", \"legs\"]\n",
    "print(classification_report(np.concatenate(all_true_labels), np.concatenate(all_predicted_labels), target_names=class_names))"
   ],
   "id": "e736e20c51e70e0b",
   "outputs": [
    {
     "name": "stdout",
     "output_type": "stream",
     "text": [
      "              precision    recall  f1-score   support\n",
      "\n",
      "        head       0.90      0.82      0.86     54971\n",
      "        neck       0.45      0.37      0.41      9553\n",
      "       torso       0.74      0.87      0.80    115524\n",
      "    left_arm       0.87      0.59      0.70     64776\n",
      "   right_arm       0.66      0.80      0.73     44239\n",
      "         hip       0.80      0.79      0.80     37607\n",
      "        legs       0.94      0.90      0.92     56702\n",
      "\n",
      "    accuracy                           0.79    383372\n",
      "   macro avg       0.77      0.74      0.74    383372\n",
      "weighted avg       0.80      0.79      0.79    383372\n",
      "\n"
     ]
    }
   ],
   "execution_count": 37
  },
  {
   "metadata": {
    "ExecuteTime": {
     "end_time": "2025-03-15T15:47:50.063721Z",
     "start_time": "2025-03-15T15:47:48.567149Z"
    }
   },
   "cell_type": "code",
   "source": [
    "# confusion matrix\n",
    "from sklearn.metrics import confusion_matrix\n",
    "import seaborn as sns\n",
    "import matplotlib.pyplot as plt\n",
    "\n",
    "# Compute confusion matrix\n",
    "cm = confusion_matrix(np.concatenate(all_true_labels), np.concatenate(all_predicted_labels))\n",
    "\n",
    "# Plot confusion matrix\n",
    "plt.figure(figsize=(8, 6))\n",
    "sns.heatmap(cm, annot=True, fmt='d', cmap='Blues', xticklabels=class_names, yticklabels=class_names)\n",
    "plt.xlabel('Predicted labels')\n",
    "plt.ylabel('True labels')\n",
    "plt.title('Confusion Matrix')\n",
    "plt.show()"
   ],
   "id": "4ca279d22e3f85be",
   "outputs": [
    {
     "data": {
      "text/plain": [
       "<Figure size 800x600 with 2 Axes>"
      ],
      "image/png": "[encoded data removed]"
     },
     "metadata": {},
     "output_type": "display_data"
    }
   ],
   "execution_count": 40
  },
  {
   "metadata": {},
   "cell_type": "markdown",
   "source": "## Visualizing Predictions and Ground Truth",
   "id": "da18f56e9504f774"
  },
  {
   "metadata": {
    "ExecuteTime": {
     "end_time": "2025-03-15T15:31:40.107309Z",
     "start_time": "2025-03-15T15:31:40.089577Z"
    }
   },
   "cell_type": "code",
   "source": [
    "# generates colored output for either original mesh or predicted mesh\n",
    "import numpy as np\n",
    "from plyfile import PlyData, PlyElement\n",
    "def generate_colored_output(mesh_path, predicted_labels_path = None):\n",
    "    sample_name = mesh_path.split(\"/\")[-1].split(\".\")[0]\n",
    "\n",
    "    # Load the original mesh PLY file\n",
    "    ply_data = PlyData.read(mesh_path)\n",
    "\n",
    "    # Extract vertices and original labels\n",
    "    vertices = np.vstack([\n",
    "        ply_data['vertex']['x'],\n",
    "        ply_data['vertex']['y'],\n",
    "        ply_data['vertex']['z']\n",
    "    ]).T  # Shape: (N, 3)\n",
    "\n",
    "    if predicted_labels_path is not None:\n",
    "        # predicted_nameofthesameple_colored.ply\n",
    "        vertex_labels = np.loadtxt(predicted_labels_path, dtype=int)\n",
    "        output_name = f\"predicted_{sample_name}_colored.ply\"\n",
    "        output_dir = \"results/predicted colored\"\n",
    "        output_path = os.path.join(output_dir, output_name)\n",
    "    else:\n",
    "        # nameofthesample_colored.ply\n",
    "        vertex_labels = np.array(ply_data['vertex']['label'])  # Shape: (N,)\n",
    "        output_name = f\"{sample_name}_colored.ply\"\n",
    "        output_dir = \"results/original colored\"\n",
    "        output_path = os.path.join(output_dir, output_name)\n",
    "\n",
    "\n",
    "    # Define class colors (RGB format, range 0-255)\n",
    "    class_colors = {\n",
    "        1: (255, 0, 0),    # Red\n",
    "        2: (0, 255, 0),    # Green\n",
    "        3: (0, 0, 255),    # Blue\n",
    "        4: (255, 255, 0),  # Yellow\n",
    "        5: (255, 165, 0),  # Orange\n",
    "        6: (128, 0, 128),  # Purple\n",
    "        7: (0, 255, 255),  # Cyan\n",
    "    }\n",
    "\n",
    "    # Assign colors based on predicted labels\n",
    "    colors = np.array([class_colors[label] for label in vertex_labels], dtype=np.uint8)\n",
    "\n",
    "    # Create a new structured array for the vertex data\n",
    "    vertex_data = np.empty(len(vertices), dtype=[\n",
    "        ('x', 'f4'), ('y', 'f4'), ('z', 'f4'),  # Vertex positions\n",
    "        ('red', 'u1'), ('green', 'u1'), ('blue', 'u1'),  # Vertex colors\n",
    "        ('label', 'i4')  # Predicted labels\n",
    "    ])\n",
    "\n",
    "    # Fill vertex data with positions, colors, and predicted labels\n",
    "    vertex_data['x'] = vertices[:, 0]\n",
    "    vertex_data['y'] = vertices[:, 1]\n",
    "    vertex_data['z'] = vertices[:, 2]\n",
    "    vertex_data['red'] = colors[:, 0]\n",
    "    vertex_data['green'] = colors[:, 1]\n",
    "    vertex_data['blue'] = colors[:, 2]\n",
    "    vertex_data['label'] = vertex_labels\n",
    "\n",
    "    # Extract faces from the original mesh (if it's a mesh)\n",
    "    if 'face' in ply_data:\n",
    "        faces = ply_data['face']['vertex_indices']\n",
    "        face_data = np.array([(tuple(face),) for face in faces], dtype=[('vertex_indices', 'i4', (3,))])\n",
    "    else:\n",
    "        face_data = None  # No faces (point cloud)\n",
    "\n",
    "    # Save the updated mesh with new colors and labels\n",
    "    new_ply_vertices = PlyElement.describe(vertex_data, 'vertex')\n",
    "    if face_data is not None:\n",
    "        new_ply_faces = PlyElement.describe(face_data, 'face')\n",
    "        PlyData([new_ply_vertices, new_ply_faces]).write(output_path)\n",
    "    else:\n",
    "        PlyData([new_ply_vertices]).write(output_path)\n",
    "\n",
    "    print(f\"Updated mesh saved as '{output_name}' in the '{output_dir}' directory\")"
   ],
   "id": "d7f68dff7f1cc81a",
   "outputs": [],
   "execution_count": 38
  },
  {
   "metadata": {
    "ExecuteTime": {
     "end_time": "2025-03-15T15:31:52.935858Z",
     "start_time": "2025-03-15T15:31:43.002611Z"
    }
   },
   "cell_type": "code",
   "source": [
    "# generate colored output for either original mesh or predicted mesh\n",
    "import os\n",
    "\n",
    "mesh_dir = \"data/val\"\n",
    "predicted_labels_dir = \"results/predicted labels\"\n",
    "for file in os.listdir(mesh_dir):\n",
    "    if file.endswith(\".ply\"):\n",
    "        file_path = os.path.join(mesh_dir, file)\n",
    "        predicted_labels_file = os.path.join(predicted_labels_dir, f\"{os.path.splitext(file)[0]}_labels.txt\")\n",
    "        generate_colored_output(file_path, predicted_labels_file)\n",
    "        generate_colored_output(file_path)\n"
   ],
   "id": "4eb84ec5e0591820",
   "outputs": [
    {
     "name": "stdout",
     "output_type": "stream",
     "text": [
      "Updated mesh saved as 'predicted_raw_60_colored.ply' in the 'results/predicted colored' directory\n",
      "Updated mesh saved as 'raw_60_colored.ply' in the 'results/original colored' directory\n",
      "Updated mesh saved as 'predicted_raw_59_colored.ply' in the 'results/predicted colored' directory\n",
      "Updated mesh saved as 'raw_59_colored.ply' in the 'results/original colored' directory\n",
      "Updated mesh saved as 'predicted_raw_55_colored.ply' in the 'results/predicted colored' directory\n",
      "Updated mesh saved as 'raw_55_colored.ply' in the 'results/original colored' directory\n",
      "Updated mesh saved as 'predicted_raw_57_colored.ply' in the 'results/predicted colored' directory\n",
      "Updated mesh saved as 'raw_57_colored.ply' in the 'results/original colored' directory\n",
      "Updated mesh saved as 'predicted_raw_50_colored.ply' in the 'results/predicted colored' directory\n",
      "Updated mesh saved as 'raw_50_colored.ply' in the 'results/original colored' directory\n",
      "Updated mesh saved as 'predicted_raw_51_colored.ply' in the 'results/predicted colored' directory\n",
      "Updated mesh saved as 'raw_51_colored.ply' in the 'results/original colored' directory\n",
      "Updated mesh saved as 'predicted_raw_54_colored.ply' in the 'results/predicted colored' directory\n",
      "Updated mesh saved as 'raw_54_colored.ply' in the 'results/original colored' directory\n",
      "Updated mesh saved as 'predicted_raw_53_colored.ply' in the 'results/predicted colored' directory\n",
      "Updated mesh saved as 'raw_53_colored.ply' in the 'results/original colored' directory\n",
      "Updated mesh saved as 'predicted_raw_56_colored.ply' in the 'results/predicted colored' directory\n",
      "Updated mesh saved as 'raw_56_colored.ply' in the 'results/original colored' directory\n",
      "Updated mesh saved as 'predicted_raw_58_colored.ply' in the 'results/predicted colored' directory\n",
      "Updated mesh saved as 'raw_58_colored.ply' in the 'results/original colored' directory\n",
      "Updated mesh saved as 'predicted_raw_52_colored.ply' in the 'results/predicted colored' directory\n",
      "Updated mesh saved as 'raw_52_colored.ply' in the 'results/original colored' directory\n"
     ]
    }
   ],
   "execution_count": 39
  },
  {
   "metadata": {},
   "cell_type": "code",
   "outputs": [],
   "execution_count": null,
   "source": "",
   "id": "61141c9d215874d4"
  }
 ],
 "metadata": {
  "kernelspec": {
   "name": "python3",
   "language": "python",
   "display_name": "Python 3 (ipykernel)"
  }
 },
 "nbformat": 5,
 "nbformat_minor": 9
}
